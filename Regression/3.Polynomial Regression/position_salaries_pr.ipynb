{
  "cells": [
    {
      "cell_type": "markdown",
      "metadata": {
        "id": "zQJ7umHAIkTA"
      },
      "source": [
        "## Polynomial Regression\n",
        "ML - Project 3"
      ]
    },
    {
      "cell_type": "markdown",
      "metadata": {
        "id": "z4G-echHIord"
      },
      "source": [
        "# Importing the libraries"
      ]
    },
    {
      "cell_type": "code",
      "execution_count": 7,
      "metadata": {
        "id": "YE6eMg5jIbX5"
      },
      "outputs": [],
      "source": [
        "import numpy as np\n",
        "import matplotlib.pyplot as plt\n",
        "import pandas as pd\n",
        "import warnings\n",
        "warnings.filterwarnings('ignore')"
      ]
    },
    {
      "cell_type": "markdown",
      "metadata": {
        "id": "bcw9hd61Is11"
      },
      "source": [
        "# Importing the dataset"
      ]
    },
    {
      "cell_type": "code",
      "execution_count": 8,
      "metadata": {
        "id": "gSIeOpFaIwwo"
      },
      "outputs": [],
      "source": [
        "data = pd.read_csv('Position_Salaries.csv')\n",
        "X = data.iloc[:,1:-1].values\n",
        "y = data.iloc[:,-1].values"
      ]
    },
    {
      "cell_type": "markdown",
      "metadata": {
        "id": "gHfwpvrQJYVF"
      },
      "source": [
        "# Training model on the dataset"
      ]
    },
    {
      "cell_type": "code",
      "execution_count": 9,
      "metadata": {
        "colab": {
          "base_uri": "https://localhost:8080/",
          "height": 74
        },
        "id": "VRVgC18MJZRN",
        "outputId": "9759af3a-8dba-4555-ad51-15d6220d7acf"
      },
      "outputs": [
        {
          "data": {
            "text/plain": [
              "LinearRegression()"
            ]
          },
          "execution_count": 9,
          "metadata": {},
          "output_type": "execute_result"
        }
      ],
      "source": [
        "from sklearn.preprocessing import PolynomialFeatures\n",
        "from sklearn.linear_model import LinearRegression\n",
        "poly_reg = PolynomialFeatures(degree = 4)\n",
        "X_poly = poly_reg.fit_transform(X)\n",
        "lin_reg = LinearRegression()\n",
        "lin_reg.fit(X_poly,y)"
      ]
    },
    {
      "cell_type": "markdown",
      "metadata": {
        "id": "fZR9w4CrYoIn"
      },
      "source": [
        "# Visualising the result"
      ]
    },
    {
      "cell_type": "code",
      "execution_count": 10,
      "metadata": {
        "colab": {
          "base_uri": "https://localhost:8080/",
          "height": 465
        },
        "id": "asaaxQs9ZCzm",
        "outputId": "ac23c1c2-f26d-4dea-cdcd-663768485045"
      },
      "outputs": [
        {
          "data": {
            "image/png": "[encoded data removed]",
            "text/plain": [
              "<Figure size 640x480 with 1 Axes>"
            ]
          },
          "metadata": {},
          "output_type": "display_data"
        }
      ],
      "source": [
        "plt.scatter(X, y, color = 'red')\n",
        "plt.plot(X, lin_reg.predict(X_poly), color = 'blue')\n",
        "plt.xlabel('Position level')\n",
        "plt.ylabel('Salary')\n",
        "plt.show()"
      ]
    },
    {
      "cell_type": "markdown",
      "metadata": {
        "id": "7RjHl0d9aUSo"
      },
      "source": [
        "# Predicting a new result"
      ]
    },
    {
      "cell_type": "code",
      "execution_count": 11,
      "metadata": {
        "colab": {
          "base_uri": "https://localhost:8080/"
        },
        "id": "OBjsTcl1aXbO",
        "outputId": "abe1f2aa-dfa1-4225-8635-49b21d534178"
      },
      "outputs": [
        {
          "data": {
            "text/plain": [
              "array([158862.45265153])"
            ]
          },
          "execution_count": 11,
          "metadata": {},
          "output_type": "execute_result"
        }
      ],
      "source": [
        "lin_reg.predict(poly_reg.fit_transform([[6.5]]))"
      ]
    }
  ],
  "metadata": {
    "colab": {
      "provenance": []
    },
    "kernelspec": {
      "display_name": "Python 3.11.1 64-bit",
      "language": "python",
      "name": "python3"
    },
    "language_info": {
      "codemirror_mode": {
        "name": "ipython",
        "version": 3
      },
      "file_extension": ".py",
      "mimetype": "text/x-python",
      "name": "python",
      "nbconvert_exporter": "python",
      "pygments_lexer": "ipython3",
      "version": "3.9.13"
    },
    "vscode": {
      "interpreter": {
        "hash": "4bbd42e9e6a1217d71f18d81fc8823f385f6f56828badcab9c26a556edda3b97"
      }
    }
  },
  "nbformat": 4,
  "nbformat_minor": 0
}
