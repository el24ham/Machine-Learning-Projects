{
  "cells": [
    {
      "cell_type": "markdown",
      "metadata": {
        "id": "B4MQwjYOH5Ep"
      },
      "source": [
        "# Decision Tree Regression\n",
        "ML - Project 6"
      ]
    },
    {
      "cell_type": "markdown",
      "metadata": {
        "id": "AJBQWwYrIIC2"
      },
      "source": [
        "## Importing the libraries"
      ]
    },
    {
      "cell_type": "code",
      "execution_count": 1,
      "metadata": {
        "id": "7xc010qaGXGJ"
      },
      "outputs": [],
      "source": [
        "import numpy as np\n",
        "import matplotlib.pyplot as plt\n",
        "import pandas as pd\n",
        "import warnings\n",
        "warnings.filterwarnings('ignore')"
      ]
    },
    {
      "cell_type": "markdown",
      "metadata": {
        "id": "GVYxtLpNImkW"
      },
      "source": [
        "## Importing the dataset"
      ]
    },
    {
      "cell_type": "code",
      "execution_count": 2,
      "metadata": {
        "id": "xQ1I1VYjInIF"
      },
      "outputs": [],
      "source": [
        "import requests, io\n",
        "\n",
        "url = \"https://drive.google.com/u/0/uc?id=1mVmGNx6cbfvRHC_DvF12ZL3wGLSHD9f_&export=download\"\n",
        "data = requests.get(url).content\n",
        "dataset = pd.read_csv(io.StringIO(data.decode('utf-8')))"
      ]
    },
    {
      "cell_type": "markdown",
      "metadata": {
        "id": "Q6d9Ds7AJ3dZ"
      },
      "source": [
        "## Separating the features and the target variable"
      ]
    },
    {
      "cell_type": "code",
      "execution_count": 3,
      "metadata": {
        "id": "ShsKBLXQJ8I-"
      },
      "outputs": [],
      "source": [
        "X = dataset.iloc[:,:-1].values\n",
        "y = dataset.iloc[:,-1].values"
      ]
    },
    {
      "cell_type": "markdown",
      "metadata": {
        "id": "LRNsFUTrKrSe"
      },
      "source": [
        "## Splitting the dataset into the training set and test set"
      ]
    },
    {
      "cell_type": "code",
      "execution_count": 4,
      "metadata": {
        "id": "eC4QMKxvKtjW"
      },
      "outputs": [],
      "source": [
        "from sklearn.model_selection import train_test_split\n",
        "\n",
        "X_train, X_test, y_train, y_test = train_test_split(X, y, test_size = 0.2, random_state = 0)"
      ]
    },
    {
      "cell_type": "markdown",
      "metadata": {
        "id": "R8Q53g2LK-O2"
      },
      "source": [
        "## Training model on the training set"
      ]
    },
    {
      "cell_type": "code",
      "execution_count": 5,
      "metadata": {
        "colab": {
          "base_uri": "https://localhost:8080/",
          "height": 74
        },
        "id": "UhMrxRHGK_R9",
        "outputId": "b7a3b63d-e0b2-408a-a209-da0902c8bb51"
      },
      "outputs": [
        {
          "data": {
            "text/plain": [
              "DecisionTreeRegressor(random_state=0)"
            ]
          },
          "execution_count": 5,
          "metadata": {},
          "output_type": "execute_result"
        }
      ],
      "source": [
        "from sklearn.tree import DecisionTreeRegressor\n",
        "\n",
        "reg = DecisionTreeRegressor(random_state=0)\n",
        "reg.fit(X_train, y_train)"
      ]
    },
    {
      "cell_type": "markdown",
      "metadata": {
        "id": "y_kc8ZylLUmH"
      },
      "source": [
        "## Predicting the test set result"
      ]
    },
    {
      "cell_type": "code",
      "execution_count": 6,
      "metadata": {
        "id": "Ih2gqyDnLVNf"
      },
      "outputs": [],
      "source": [
        "y_pred = reg.predict(X_test)"
      ]
    },
    {
      "cell_type": "markdown",
      "metadata": {
        "id": "iYsoBTUEL6P3"
      },
      "source": [
        "## Calculating the loss after training"
      ]
    },
    {
      "cell_type": "code",
      "execution_count": 7,
      "metadata": {
        "colab": {
          "base_uri": "https://localhost:8080/"
        },
        "id": "y-WzXdlnL8Yg",
        "outputId": "ef2a1e44-bad9-46fb-86c0-d70c7169eaae"
      },
      "outputs": [
        {
          "name": "stdout",
          "output_type": "stream",
          "text": [
            "RMSE:  67.345\n"
          ]
        }
      ],
      "source": [
        "from sklearn.metrics import mean_squared_error\n",
        "\n",
        "rmse = format(np.sqrt(mean_squared_error(y_test, y_pred)), '.3f')\n",
        "print(\"RMSE: \", rmse)"
      ]
    },
    {
      "cell_type": "markdown",
      "metadata": {
        "id": "7oz1c2kbM7f3"
      },
      "source": [
        "## Visualising the result"
      ]
    },
    {
      "cell_type": "code",
      "execution_count": 9,
      "metadata": {
        "id": "fucdxZAKM8UH"
      },
      "outputs": [],
      "source": [
        "from sklearn.tree import export_graphviz\n",
        "#from google.colab import files\n",
        "\n",
        "export_graphviz(reg, out_file ='tree_structure.dot',\n",
        "               feature_names =['Petrol_tax', 'Average_income', 'Paved_Highways', 'Population_Driver_licence(%)'])\n",
        "# files.download(\"tree_structure.dot\")"
      ]
    }
  ],
  "metadata": {
    "colab": {
      "provenance": []
    },
    "kernelspec": {
      "display_name": "Python 3",
      "name": "python3"
    },
    "language_info": {
      "codemirror_mode": {
        "name": "ipython",
        "version": 3
      },
      "file_extension": ".py",
      "mimetype": "text/x-python",
      "name": "python",
      "nbconvert_exporter": "python",
      "pygments_lexer": "ipython3",
      "version": "3.9.13"
    }
  },
  "nbformat": 4,
  "nbformat_minor": 0
}
